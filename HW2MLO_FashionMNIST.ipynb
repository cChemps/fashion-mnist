{
 "cells": [
  {
   "cell_type": "markdown",
   "id": "9954a2ec",
   "metadata": {},
   "source": [
    "    Multinomial Logistic Regression on Fashion-MNIST with sklearn\n",
    "        by Carter Hempstead\n",
    "    CSCI 4961, RPI Fall '21\n",
    "    Original Github Repo: https://github.com/zalandoresearch/fashion-mnist\n",
    "    Cited: arXiv:1708.07747"
   ]
  },
  {
   "cell_type": "markdown",
   "id": "dc356838",
   "metadata": {},
   "source": [
    "First, we need to load the Fashion-MNIST dataset into Python as instructed in the 'Usage' section of the 'README.md' file in the repo. Loading the data utilizes NumPy and the mnist_reader function supplied in the repo"
   ]
  },
  {
   "cell_type": "code",
   "execution_count": 30,
   "id": "a155e125",
   "metadata": {
    "scrolled": true
   },
   "outputs": [],
   "source": [
    "import mnist_reader\n",
    "X_train, y_train = mnist_reader.load_mnist('', kind='train')\n",
    "X_test, y_test = mnist_reader.load_mnist('', kind='t10k')"
   ]
  },
  {
   "cell_type": "markdown",
   "id": "c1c1ea15",
   "metadata": {},
   "source": [
    "Now X_train contains the images and y_train contains the corresponding labels for the model to use for training. Similarly, X_test and y_test contain the images and respective labels that the model will use to test on. "
   ]
  },
  {
   "cell_type": "code",
   "execution_count": 45,
   "id": "f2eaed6c",
   "metadata": {},
   "outputs": [
    {
     "name": "stdout",
     "output_type": "stream",
     "text": [
      "Training Images: (60000, 784)\n",
      "Training Labels: (60000,)\n",
      "Testing Images: (10000, 784)\n",
      "Testing Labels: (10000,)\n"
     ]
    }
   ],
   "source": [
    "print(\"Training Images:\" , X_train.shape)\n",
    "print(\"Training Labels:\", y_train.shape)\n",
    "print(\"Testing Images:\" , X_test.shape)\n",
    "print(\"Testing Labels:\", y_test.shape)"
   ]
  },
  {
   "cell_type": "markdown",
   "id": "9f1e517d",
   "metadata": {},
   "source": [
    "We can print the training and testing data to see the amount of images and labels and the dimensions of the images. After printing we can see that we have 60,000 training labels and 60,000 corresponding training images of 28x28 pixel resolution(784 pixels). Also, for the test data we have 10,000 testing images of the same resolution, 28x28, and 10,000 corresponding testing labels. The training and testing labels are just a digit 0-9 representing each of the 10 different clothing items."
   ]
  },
  {
   "cell_type": "code",
   "execution_count": null,
   "id": "b3d98f50",
   "metadata": {},
   "outputs": [],
   "source": []
  }
 ],
 "metadata": {
  "kernelspec": {
   "display_name": "Python 3 (ipykernel)",
   "language": "python",
   "name": "python3"
  },
  "language_info": {
   "codemirror_mode": {
    "name": "ipython",
    "version": 3
   },
   "file_extension": ".py",
   "mimetype": "text/x-python",
   "name": "python",
   "nbconvert_exporter": "python",
   "pygments_lexer": "ipython3",
   "version": "3.8.6"
  }
 },
 "nbformat": 4,
 "nbformat_minor": 5
}
